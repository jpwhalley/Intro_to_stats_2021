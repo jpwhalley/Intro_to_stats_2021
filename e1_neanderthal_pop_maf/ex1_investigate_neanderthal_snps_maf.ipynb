{
 "cells": [
  {
   "cell_type": "markdown",
   "metadata": {},
   "source": [
    "# GMS Intro to Stats\n",
    "## Excercise 1: Tests of significance and correlations\n",
    "### Looking at the minor allele frequency for 5000 introgressed neaderthal SNPs in modern humans\n",
    "\n",
    "#### Neanderthal SNPs from:\n",
    "1.\tDannemann M, Prufer K & Kelso J. Functional implications of Neandertal introgression in modern humans. *Genome Biol* 2017 18:61.\n",
    "2.\tSimonti CN et al. The phenotypic legacy of admixture between modern humans and Neandertals. *Science* 2016 351:737-41.\n",
    "\n",
    "#### Minor allele frequencies from:\n",
    "+ [1000 genomes](http://www.internationalgenome.org/data)\n",
    "    - [With five super populatuions and 26 specific populations](http://www.internationalgenome.org/category/population/)\n"
   ]
  },
  {
   "cell_type": "code",
   "execution_count": null,
   "metadata": {},
   "outputs": [],
   "source": [
    "# Import the packages we need\n",
    "# Manipulate the data\n",
    "import pandas as pd\n",
    "import numpy as np\n",
    "import scipy as sp\n",
    "# Plot the data\n",
    "import matplotlib.pyplot as plt\n",
    "from pylab import plot, show, savefig, xlim, figure, ylim, legend, boxplot, setp, axes\n",
    "import seaborn as sns\n",
    "sns.set()"
   ]
  },
  {
   "cell_type": "code",
   "execution_count": null,
   "metadata": {},
   "outputs": [],
   "source": [
    "# Import the data - European \n",
    "eur = pd.read_csv('neanderthal_snps_european_maf_1000genome.tsv', index_col=0, sep='\\t')"
   ]
  },
  {
   "cell_type": "code",
   "execution_count": null,
   "metadata": {},
   "outputs": [],
   "source": [
    "# Summary statistics\n",
    "eur.describe()"
   ]
  },
  {
   "cell_type": "code",
   "execution_count": null,
   "metadata": {},
   "outputs": [],
   "source": [
    "# What does it look like?\n",
    "sns.histplot(eur, kde=True)"
   ]
  },
  {
   "cell_type": "code",
   "execution_count": null,
   "metadata": {},
   "outputs": [],
   "source": [
    "# Looks normal, is it normal?\n",
    "print(sp.stats.normaltest(eur))"
   ]
  },
  {
   "cell_type": "code",
   "execution_count": null,
   "metadata": {},
   "outputs": [],
   "source": [
    "# Now lets import the African MAFs\n",
    "afr = pd.read_csv('neanderthal_snps_african_maf_10000genome.tsv', index_col=0, sep='\\t')"
   ]
  },
  {
   "cell_type": "code",
   "execution_count": null,
   "metadata": {},
   "outputs": [],
   "source": [
    "sns.distplot(afr, color='red')"
   ]
  },
  {
   "cell_type": "code",
   "execution_count": null,
   "metadata": {},
   "outputs": [],
   "source": [
    "print(sp.stats.normaltest(afr))"
   ]
  },
  {
   "cell_type": "markdown",
   "metadata": {},
   "source": [
    "+ We want to compare the European and African MAFs for the neanderthal SNPs:\n",
    "    - What is our hypothesis?\n",
    "    - What would lead us to reject this?"
   ]
  },
  {
   "cell_type": "code",
   "execution_count": null,
   "metadata": {},
   "outputs": [],
   "source": [
    "# How about non-parametric tests\n",
    "# print('Mann-Whitney rank test')\n",
    "# print(sp.stats.mannwhitneyu(eur,afr))\n",
    "# print('Kruskal-Wallis test')\n",
    "# print(sp.stats.ks_2samp(eur['European'].values,afr['African'].values))\n",
    "print('Wilcoxon signed rank test')\n",
    "print(sp.stats.wilcoxon(eur['European'],afr['African']))"
   ]
  },
  {
   "cell_type": "markdown",
   "metadata": {},
   "source": [
    " + The European minor allele frequencies is significantly 'bigger' than the African minor allele frequencies.\n",
    "     - Is this what we expected? What do we mean by significant?\n",
    " + Are they correlated?"
   ]
  },
  {
   "cell_type": "code",
   "execution_count": null,
   "metadata": {},
   "outputs": [],
   "source": [
    "# Work out by hand the correlation between European and African MAF for neanderthal SNPs\n",
    "eur_afr = pd.concat([eur, afr], axis=1)\n",
    "mean_eur = np.mean(eur_afr['European'])\n",
    "mean_afr = np.mean(eur_afr['African'])\n",
    "\n",
    "eur_afr['Eur - mean_eur'] = eur_afr['European'] - mean_eur\n",
    "eur_afr['Afr - mean_afr'] = eur_afr['African'] - mean_afr\n",
    "eur_afr['E-m_e * A-a_e'] = eur_afr['Eur - mean_eur'] * eur_afr['Afr - mean_afr']\n",
    "eur_afr['Eur - mean_eur ^2'] = eur_afr['Eur - mean_eur']**2\n",
    "eur_afr['Afr - mean_afr ^2'] = eur_afr['Afr - mean_afr']**2\n",
    "\n",
    "corr_coeff = sp.sum(eur_afr['E-m_e * A-a_e']) / (np.sqrt(sum(eur_afr['Eur - mean_eur ^2'])) * np.sqrt(sum(eur_afr['Afr - mean_afr ^2'])))\n",
    "print(corr_coeff)"
   ]
  },
  {
   "cell_type": "code",
   "execution_count": null,
   "metadata": {},
   "outputs": [],
   "source": [
    "# Or just work out, including Spearmans rank coefficient\n",
    "print(sp.stats.pearsonr(eur['European'].values,afr['African'].values))\n",
    "print(sp.stats.spearmanr(eur,afr))"
   ]
  },
  {
   "cell_type": "code",
   "execution_count": null,
   "metadata": {},
   "outputs": [],
   "source": [
    "all_pop = pd.read_csv('neanderthal_snps_maf_10000genome.tsv', index_col=0, sep='\\t')\n",
    "all_pop[['African', 'American', 'East_Asian', 'European', 'South_Asian']].describe()"
   ]
  },
  {
   "cell_type": "code",
   "execution_count": null,
   "metadata": {},
   "outputs": [],
   "source": [
    "# Define the correlation coefficient so we can plot it for each comparison\n",
    "def corrfunc(x, y, **kws):\n",
    "    r, _ = sp.stats.pearsonr(x, y)\n",
    "    ax = plt.gca()\n",
    "    ax.annotate(u\"\\u03C1 = {:.2f}\".format(r), #unicode code for lowercase rho (ρ)\n",
    "                xy=(.1, .9), xycoords=ax.transAxes)\n",
    "\n",
    "# Plot a pairplot comparing the MAFs for the super populations\n",
    "g = sns.pairplot(all_pop[['African', 'American', 'East_Asian', 'European', 'South_Asian']], diag_kind=\"kde\")\n",
    "g.map_lower(corrfunc)\n",
    "plt.show()"
   ]
  },
  {
   "cell_type": "code",
   "execution_count": null,
   "metadata": {},
   "outputs": [],
   "source": [
    "slope, intercept, r_value, p_value, std_err = sp.stats.linregress(eur['European'].values,afr['African'].values)\n",
    "print(\"slope: %f    intercept: %f\" % (slope, intercept))"
   ]
  },
  {
   "cell_type": "markdown",
   "metadata": {},
   "source": [
    "+ Why are any neanderthal SNPs seen in African populations (MAF > 0)?\n",
    "    - Is this true for the African subpopulations in 1000 genomes?"
   ]
  },
  {
   "cell_type": "code",
   "execution_count": null,
   "metadata": {},
   "outputs": [],
   "source": [
    "# Import the individual African population MAF for the neanderthal SNPs?\n",
    "afr_pop = pd.read_csv('neanderthal_snps_african_specific_maf_10000genome.tsv', index_col=0, sep='\\t')\n",
    "afr_pop[['Yoruba', 'Luhya', 'Gambian', 'Mende', 'Esan', 'American', 'Caribbean']].describe()"
   ]
  },
  {
   "cell_type": "code",
   "execution_count": null,
   "metadata": {},
   "outputs": [],
   "source": [
    "# The range of MAFs for the African populations is nicely shown by a boxplot\n",
    "xticklabs = ['Yoruba', 'Luhya', 'Gambian', 'Mende', 'Esan', 'American', 'Caribbean']\n",
    "colors=['red','green','blue','gold', 'orange', 'brown', 'violet', 'gray']\n",
    "fig = plt.figure(figsize=(9,6))\n",
    "ax = fig.add_subplot(111)\n",
    "for i,item in enumerate(xticklabs):\n",
    "    # All\n",
    "    values = afr_pop[item].values\n",
    "    \n",
    "    color = colors[i]\n",
    "    def setBoxColors(bp):\n",
    "        setp(bp['boxes'][0], color=color)\n",
    "        setp(bp['caps'][0], color=color)\n",
    "        setp(bp['caps'][1], color=color)\n",
    "        setp(bp['whiskers'][0], color=color)\n",
    "        setp(bp['whiskers'][1], color=color)\n",
    "        setp(bp['medians'][0], color=color)\n",
    "    bp = ax.boxplot(values, positions = [(i)], widths=0.4)\n",
    "    setBoxColors(bp)\n",
    "    x = np.random.normal((i), 0.04, size=len(values))\n",
    "#     pn = ax.scatter(x, values, marker='.', color=color, alpha=0.2)\n",
    "\n",
    "\n",
    "ax.set_xticklabels(xticklabs) \n",
    "ax.set_xticks(range(len(xticklabs)))\n",
    "ax.set_xlim(-1,len(xticklabs))\n",
    "\n",
    "ax.set_ylabel('Allele freq')"
   ]
  },
  {
   "cell_type": "code",
   "execution_count": null,
   "metadata": {},
   "outputs": [],
   "source": [
    "# Also look at their correlations\n",
    "g = sns.pairplot(afr_pop[['Yoruba', 'Luhya', 'Gambian', 'Mende', 'Esan', 'American', 'Caribbean']])\n",
    "g.map_lower(corrfunc)\n",
    "plt.show()"
   ]
  },
  {
   "cell_type": "code",
   "execution_count": null,
   "metadata": {},
   "outputs": [],
   "source": []
  }
 ],
 "metadata": {
  "kernelspec": {
   "display_name": "Python 3",
   "language": "python",
   "name": "python3"
  },
  "language_info": {
   "codemirror_mode": {
    "name": "ipython",
    "version": 3
   },
   "file_extension": ".py",
   "mimetype": "text/x-python",
   "name": "python",
   "nbconvert_exporter": "python",
   "pygments_lexer": "ipython3",
   "version": "3.8.8"
  }
 },
 "nbformat": 4,
 "nbformat_minor": 2
}
