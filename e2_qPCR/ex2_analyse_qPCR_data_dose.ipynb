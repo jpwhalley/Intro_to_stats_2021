{
 "cells": [
  {
   "cell_type": "markdown",
   "metadata": {},
   "source": [
    "# GMS Intro to Stats\n",
    "## Excercise 2a: Dealing with uncertainty from raw experimental data\n",
    "### Comparing gene expression of TNF, for different doses of LPS, for crispr-edited, cell lines.\n",
    "\n",
    "#### Background on the data\n",
    "+ Ankylosing Spondylitis is a chronic inflammatory disorder.\n",
    "+ Through GWAS, the gene *TNFRSF1A* has been implicated in this disease.\n",
    "+ Would like to understand the regulatory elements around this gene.\n",
    "+ Using CRISPR/Cas9 to delete putative enhancers and then measured TNF expression for different doses of LPS using qPCR in the resulting cell lines."
   ]
  },
  {
   "cell_type": "code",
   "execution_count": null,
   "metadata": {},
   "outputs": [],
   "source": [
    "# Import the packages we need\n",
    "# Manipulate the data\n",
    "import pandas as pd\n",
    "import numpy as np\n",
    "import scipy as sp\n",
    "# Plot the data\n",
    "import matplotlib.pyplot as plt\n",
    "import seaborn as sns\n",
    "sns.set()"
   ]
  },
  {
   "cell_type": "code",
   "execution_count": null,
   "metadata": {},
   "outputs": [],
   "source": [
    "# Get the data in\n",
    "rep1 = pd.read_csv('TNF Dose response Rep 1 summary.csv', index_col=[0,1])\n",
    "rep1"
   ]
  },
  {
   "cell_type": "code",
   "execution_count": null,
   "metadata": {},
   "outputs": [],
   "source": [
    "# Let's find the mean between the two CQ\n",
    "rep1['TNF_mean'] = rep1[['TNF Cq 1', 'TNF Cq 2']].mean(axis=1)\n",
    "rep1['b-actin_mean'] = rep1[['b-actin Cq 1', 'b-actin Cq 2']].mean(axis=1)\n",
    "rep1"
   ]
  },
  {
   "cell_type": "code",
   "execution_count": null,
   "metadata": {},
   "outputs": [],
   "source": [
    "# Take away the house keeper gene's expression\n",
    "rep1['DCT'] = rep1['TNF_mean'] - rep1['b-actin_mean']\n",
    "rep1"
   ]
  },
  {
   "cell_type": "code",
   "execution_count": null,
   "metadata": {},
   "outputs": [],
   "source": [
    "# Take away the unstimulated cell lines' expression\n",
    "ddct = []\n",
    "unstimulated_value = 0\n",
    "for i in rep1.index.values:\n",
    "    if 'unstimulated' in i:\n",
    "        unstimulated_value = rep1['DCT'].loc[i]\n",
    "    ddct.append(rep1['DCT'].loc[i] - unstimulated_value)\n",
    "rep1['DDCT'] = ddct\n",
    "rep1['ExDDCT_rep1'] = 2**-rep1['DDCT']\n",
    "rep1"
   ]
  },
  {
   "cell_type": "code",
   "execution_count": null,
   "metadata": {},
   "outputs": [],
   "source": [
    "# Repeat for 2nd replicate\n",
    "rep2 = pd.read_csv('TNF Dose response Rep 2 summary.csv', index_col=[0,1])\n",
    "rep2['TNF_average'] = rep2[['TNF Cq 1', 'TNF Cq 2']].mean(axis=1)\n",
    "rep2['b-actin_average'] = rep2[['b-actin Cq 1', 'b-actin Cq 2']].mean(axis=1)\n",
    "rep2['DCT'] = rep2['TNF_average'] - rep2['b-actin_average']\n",
    "ddct = []\n",
    "unstimulated_value = 0\n",
    "for i in rep2.index.values:\n",
    "    if 'unstimulated' in i:\n",
    "        unstimulated_value = rep2['DCT'].loc[i]\n",
    "    ddct.append(rep2['DCT'].loc[i] - unstimulated_value)\n",
    "rep2['DDCT'] = ddct\n",
    "rep2['ExDDCT_rep2'] = 2**-rep2['DDCT']\n",
    "rep2"
   ]
  },
  {
   "cell_type": "code",
   "execution_count": null,
   "metadata": {},
   "outputs": [],
   "source": [
    "# Repeat 3rd replicate\n",
    "rep3 = pd.read_csv('TNF Dose response Rep 3 summary.csv', index_col=[0,1])\n",
    "rep3['TNF_average'] = rep3[['TNF Cq 1', 'TNF Cq 2']].mean(axis=1)\n",
    "rep3['b-actin_average'] = rep3[['b-actin Cq 1', 'b-actin Cq 2']].mean(axis=1)\n",
    "rep3['DCT'] = rep3['TNF_average'] - rep3['b-actin_average']\n",
    "ddct = []\n",
    "unstimulated_value = 0\n",
    "for i in rep3.index.values:\n",
    "    if 'unstimulated' in i:\n",
    "        unstimulated_value = rep3['DCT'].loc[i]\n",
    "    ddct.append(rep3['DCT'].loc[i] - unstimulated_value)\n",
    "rep3['DDCT'] = ddct\n",
    "rep3['ExDDCT_rep3'] = 2**-rep3['DDCT']\n",
    "rep3"
   ]
  },
  {
   "cell_type": "code",
   "execution_count": null,
   "metadata": {},
   "outputs": [],
   "source": [
    "# Lets collect the data together\n",
    "all_reps = pd.concat([rep1['ExDDCT_rep1'],rep2['ExDDCT_rep2'],rep3['ExDDCT_rep3']],axis=1)\n",
    "all_reps"
   ]
  },
  {
   "cell_type": "code",
   "execution_count": null,
   "metadata": {},
   "outputs": [],
   "source": [
    "# Calculate what we need for error bars\n",
    "all_reps['Mean'] = all_reps[['ExDDCT_rep1','ExDDCT_rep2','ExDDCT_rep3']].mean(axis=1)\n",
    "all_reps['StDev'] = all_reps[['ExDDCT_rep1','ExDDCT_rep2','ExDDCT_rep3']].std(axis=1)\n",
    "all_reps['StErr'] = all_reps['StDev'] / np.sqrt(3)\n",
    "all_reps['CI_95'] = all_reps['StErr'] * 4.303\n",
    "all_reps"
   ]
  },
  {
   "cell_type": "code",
   "execution_count": null,
   "metadata": {},
   "outputs": [],
   "source": [
    "# Lets plot them!\n",
    "fig, ax = plt.subplots()\n",
    "cell_lines = {'Intron enh C5':'aqua', \n",
    "              'Intergenic enh C8.4':'orange', \n",
    "              'Intergenic enh G1':'springgreen', \n",
    "              'SFC840-03-03 Ctrl':'hotpink'}\n",
    "\n",
    "w = 0.2\n",
    "ind = np.arange(len(all_reps.loc['Intron enh C5'].index))\n",
    "for c,cell_line in enumerate(cell_lines):\n",
    "    ax.bar(ind + ((c-1.33)*w), \n",
    "            all_reps['Mean'].loc[cell_line].values,\n",
    "            width = w,\n",
    "            yerr=all_reps['StErr'].loc[cell_line].values,\n",
    "            align='center',\n",
    "            color=cell_lines[cell_line], \n",
    "            label=cell_line)\n",
    "\n",
    "\n",
    "plt.xticks(ind, all_reps.loc['Intron enh C5'].index.values)\n",
    "plt.legend(loc=2)"
   ]
  },
  {
   "cell_type": "code",
   "execution_count": null,
   "metadata": {},
   "outputs": [],
   "source": []
  }
 ],
 "metadata": {
  "kernelspec": {
   "display_name": "Python 3",
   "language": "python",
   "name": "python3"
  },
  "language_info": {
   "codemirror_mode": {
    "name": "ipython",
    "version": 3
   },
   "file_extension": ".py",
   "mimetype": "text/x-python",
   "name": "python",
   "nbconvert_exporter": "python",
   "pygments_lexer": "ipython3",
   "version": "3.8.8"
  }
 },
 "nbformat": 4,
 "nbformat_minor": 2
}
