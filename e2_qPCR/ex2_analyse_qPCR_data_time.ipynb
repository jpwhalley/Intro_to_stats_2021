{
 "cells": [
  {
   "cell_type": "markdown",
   "metadata": {},
   "source": [
    "# GMS Intro to Stats\n",
    "## Excercise 2b: Dealing with uncertainty from raw experimental data\n",
    "### Comparing gene expression of TNF, at different time points, for crispr-edited, cell lines.\n",
    "\n",
    "#### Background on the data\n",
    "+ Ankylosing Spondylitis is a chronic inflammatory disorder.\n",
    "+ Through GWAS, the gene *TNFRSF1A* has been implicated in this disease.\n",
    "+ Would like to understand the regulatory elements around this gene.\n",
    "+ Using CRISPR/Cas9 to delete putative enhancers and then measured TNF expression at different time points using qPCR in the resulting cell lines.\n"
   ]
  },
  {
   "cell_type": "code",
   "execution_count": null,
   "metadata": {},
   "outputs": [],
   "source": [
    "# Import the packages we need\n",
    "# Manipulate the data\n",
    "import pandas as pd\n",
    "import numpy as np\n",
    "import scipy as sp\n",
    "from sklearn import metrics\n",
    "# Plot the data\n",
    "import matplotlib.pyplot as plt\n",
    "import seaborn as sns\n",
    "sns.set()"
   ]
  },
  {
   "cell_type": "code",
   "execution_count": null,
   "metadata": {},
   "outputs": [],
   "source": [
    "# Get the data in\n",
    "rep1 = pd.read_csv('TNF time point Rep 1 summary.csv', index_col=[0,1])\n",
    "rep1"
   ]
  },
  {
   "cell_type": "code",
   "execution_count": null,
   "metadata": {},
   "outputs": [],
   "source": [
    "# Let's find the mean between the two CQ\n",
    "rep1['TNF_mean'] = rep1[['TNF Cq 1', 'TNF Cq 2']].mean(axis=1)\n",
    "rep1['b-actin_mean'] = rep1[['b-actin Cq 1', 'b-actin Cq 2']].mean(axis=1)\n",
    "rep1"
   ]
  },
  {
   "cell_type": "code",
   "execution_count": null,
   "metadata": {},
   "outputs": [],
   "source": [
    "# Take away the house keeper gene's expression\n",
    "rep1['DCT'] = rep1['TNF_mean'] - rep1['b-actin_mean']\n",
    "rep1"
   ]
  },
  {
   "cell_type": "code",
   "execution_count": null,
   "metadata": {},
   "outputs": [],
   "source": [
    "# Take away the unstimulated cell lines' expression\n",
    "ddct = []\n",
    "unstimulated_value = 0\n",
    "for i in rep1.index.values:\n",
    "    if 'unstimulated' in i:\n",
    "        unstimulated_value = rep1['DCT'].loc[i]\n",
    "    ddct.append(rep1['DCT'].loc[i] - unstimulated_value)\n",
    "rep1['DDCT'] = ddct\n",
    "rep1['ExDDCT_rep1'] = 2**-rep1['DDCT']\n",
    "rep1"
   ]
  },
  {
   "cell_type": "code",
   "execution_count": null,
   "metadata": {},
   "outputs": [],
   "source": [
    "# Repeat for 2nd replicate\n",
    "rep2 = pd.read_csv('TNF time point Rep 2 summary.csv', index_col=[0,1])\n",
    "rep2['TNF_average'] = rep2[['TNF Cq 1', 'TNF Cq 2']].mean(axis=1)\n",
    "rep2['b-actin_average'] = rep2[['b-actin Cq 1', 'b-actin Cq 2']].mean(axis=1)\n",
    "rep2['DCT'] = rep2['TNF_average'] - rep2['b-actin_average']\n",
    "ddct = []\n",
    "unstimulated_value = 0\n",
    "for i in rep2.index.values:\n",
    "    if 'unstimulated' in i:\n",
    "        unstimulated_value = rep2['DCT'].loc[i]\n",
    "    ddct.append(rep2['DCT'].loc[i] - unstimulated_value)\n",
    "rep2['DDCT'] = ddct\n",
    "rep2['ExDDCT_rep2'] = 2**-rep2['DDCT']\n",
    "rep2"
   ]
  },
  {
   "cell_type": "code",
   "execution_count": null,
   "metadata": {},
   "outputs": [],
   "source": [
    "# Repeat 3rd replicate\n",
    "rep3 = pd.read_csv('TNF time point Rep 3 summary.csv', index_col=[0,1])\n",
    "rep3['TNF_average'] = rep3[['TNF Cq 1', 'TNF Cq 2']].mean(axis=1)\n",
    "rep3['b-actin_average'] = rep3[['b-actin Cq 1', 'b-actin Cq 2']].mean(axis=1)\n",
    "rep3['DCT'] = rep3['TNF_average'] - rep3['b-actin_average']\n",
    "ddct = []\n",
    "unstimulated_value = 0\n",
    "for i in rep3.index.values:\n",
    "    if 'unstimulated' in i:\n",
    "        unstimulated_value = rep3['DCT'].loc[i]\n",
    "    ddct.append(rep3['DCT'].loc[i] - unstimulated_value)\n",
    "rep3['DDCT'] = ddct\n",
    "rep3['ExDDCT_rep3'] = 2**-rep3['DDCT']\n",
    "rep3"
   ]
  },
  {
   "cell_type": "code",
   "execution_count": null,
   "metadata": {},
   "outputs": [],
   "source": [
    "# Lets collect the data together\n",
    "all_reps = pd.concat([rep1['ExDDCT_rep1'],rep2['ExDDCT_rep2'],rep3['ExDDCT_rep3']],axis=1)\n",
    "all_reps"
   ]
  },
  {
   "cell_type": "code",
   "execution_count": null,
   "metadata": {},
   "outputs": [],
   "source": [
    "# Calculate what we need for error bars\n",
    "all_reps['Mean'] = all_reps[['ExDDCT_rep1','ExDDCT_rep2','ExDDCT_rep3']].mean(axis=1)\n",
    "all_reps['StDev'] = all_reps[['ExDDCT_rep1','ExDDCT_rep2','ExDDCT_rep3']].std(axis=1)\n",
    "all_reps['StErr'] = all_reps['StDev'] / np.sqrt(3)\n",
    "all_reps['CI_95'] = all_reps['StErr'] * 4.303\n",
    "all_reps"
   ]
  },
  {
   "cell_type": "code",
   "execution_count": null,
   "metadata": {},
   "outputs": [],
   "source": [
    "# Lets plot them!\n",
    "fig, ax = plt.subplots()\n",
    "cell_lines = {'Intron enh A1':'lightblue', \n",
    "              'Intron enh B6':'tomato', \n",
    "              'Intron enh F7':'lightgreen', \n",
    "              'Intergenic enh C8.3 Ctrl':'violet'}\n",
    "\n",
    "w = 0.2\n",
    "ind = np.arange(len(all_reps.loc['Intron enh A1'].index))\n",
    "for c,cell_line in enumerate(cell_lines):\n",
    "    ax.bar(ind + ((c-1.33)*w), \n",
    "            all_reps['Mean'].loc[cell_line].values,\n",
    "            width = w,\n",
    "            yerr=all_reps['StErr'].loc[cell_line].values,\n",
    "            align='center',\n",
    "            color=cell_lines[cell_line], \n",
    "            label=cell_line)\n",
    "\n",
    "\n",
    "plt.xticks(ind, all_reps.loc['Intron enh A1'].index.values)\n",
    "plt.legend(loc='upper right')"
   ]
  },
  {
   "cell_type": "markdown",
   "metadata": {},
   "source": [
    "### Can we find a link between time and TNF expression for each cell line?\n",
    "#### Using Linear Regression to predict TNF expression for a given time.\n",
    "\n",
    "In this case:\n",
    "y = b<sub>0</sub> + b<sub>1</sub>x + e\n",
    "\n",
    "+ where *y* is the TNF dose,\n",
    "+ *x* is the time point,\n",
    "+ we are trying to find the intercept *b<sub>0</sub>*\n",
    "+ and the slope *b<sub>1</sub>*\n",
    "+ with an unobserved random error *e*"
   ]
  },
  {
   "cell_type": "code",
   "execution_count": null,
   "metadata": {
    "scrolled": true
   },
   "outputs": [],
   "source": [
    "timepoints = np.array([2,6,24,48])\n",
    "for cell_line in cell_lines:\n",
    "    tnf_exp = list(all_reps.Mean.loc[cell_line].values)[1:]\n",
    "    print(cell_line)\n",
    "    slope, intercept, r_value, p_value, std_err = sp.stats.linregress(timepoints, tnf_exp)\n",
    "    print(\"slope: %f    intercept: %f\" % (slope, intercept))\n",
    "    print(\"R-squared: %f\" % r_value**2)\n",
    "    print('\\n')"
   ]
  },
  {
   "cell_type": "code",
   "execution_count": null,
   "metadata": {},
   "outputs": [],
   "source": [
    "# What does the result look like for Intergenic enh C8.3\n",
    "plt.plot(timepoints, tnf_exp, 'o', label='original data')\n",
    "plt.plot(timepoints, intercept + slope*timepoints, 'r', label='fitted line')\n",
    "plt.legend()\n",
    "plt.show()"
   ]
  },
  {
   "cell_type": "code",
   "execution_count": null,
   "metadata": {},
   "outputs": [],
   "source": [
    "sns.regplot(timepoints, tnf_exp, ci=None)"
   ]
  },
  {
   "cell_type": "markdown",
   "metadata": {},
   "source": [
    "#### Change to polynomial regression?\n",
    "\n",
    "So for a second order regression:\n",
    "y = b<sub>0</sub> + b<sub>1</sub>x + b<sub>2</sub>x<sup>2</sup> + e\n"
   ]
  },
  {
   "cell_type": "code",
   "execution_count": null,
   "metadata": {},
   "outputs": [],
   "source": [
    "sns.regplot(timepoints, tnf_exp, ci=None, order=2)"
   ]
  },
  {
   "cell_type": "code",
   "execution_count": null,
   "metadata": {},
   "outputs": [],
   "source": [
    "# Overfit?\n",
    "sns.regplot(timepoints, tnf_exp, ci=None, order=4)"
   ]
  },
  {
   "cell_type": "code",
   "execution_count": null,
   "metadata": {},
   "outputs": [],
   "source": []
  }
 ],
 "metadata": {
  "kernelspec": {
   "display_name": "Python 3",
   "language": "python",
   "name": "python3"
  },
  "language_info": {
   "codemirror_mode": {
    "name": "ipython",
    "version": 3
   },
   "file_extension": ".py",
   "mimetype": "text/x-python",
   "name": "python",
   "nbconvert_exporter": "python",
   "pygments_lexer": "ipython3",
   "version": "3.8.8"
  }
 },
 "nbformat": 4,
 "nbformat_minor": 2
}
